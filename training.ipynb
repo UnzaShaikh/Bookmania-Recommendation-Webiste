{
  "nbformat": 4,
  "nbformat_minor": 0,
  "metadata": {
    "colab": {
      "provenance": [],
      "authorship_tag": "ABX9TyNSNp5crfiNwiEOzAce/uGI",
      "include_colab_link": true
    },
    "kernelspec": {
      "name": "python3",
      "display_name": "Python 3"
    },
    "language_info": {
      "name": "python"
    }
  },
  "cells": [
    {
      "cell_type": "markdown",
      "metadata": {
        "id": "view-in-github",
        "colab_type": "text"
      },
      "source": [
        "<a href=\"https://colab.research.google.com/github/Mughal72/Book_Website/blob/main/training.ipynb\" target=\"_parent\"><img src=\"https://colab.research.google.com/assets/colab-badge.svg\" alt=\"Open In Colab\"/></a>"
      ]
    },
    {
      "cell_type": "code",
      "execution_count": 1,
      "metadata": {
        "id": "KnKFYCNzAP27"
      },
      "outputs": [],
      "source": [
        "# Importing necessary library\n",
        "import pandas as pd\n",
        "import numpy as np\n",
        "import matplotlib.pyplot as plt\n",
        "import seaborn as sns"
      ]
    },
    {
      "cell_type": "code",
      "source": [
        "pip install surprise"
      ],
      "metadata": {
        "colab": {
          "base_uri": "https://localhost:8080/"
        },
        "id": "sdswcVSMvi70",
        "outputId": "c78f2050-0d7c-4cbc-979a-b57b193d43c7"
      },
      "execution_count": 2,
      "outputs": [
        {
          "output_type": "stream",
          "name": "stdout",
          "text": [
            "Collecting surprise\n",
            "  Downloading surprise-0.1-py2.py3-none-any.whl (1.8 kB)\n",
            "Collecting scikit-surprise (from surprise)\n",
            "  Downloading scikit-surprise-1.1.3.tar.gz (771 kB)\n",
            "\u001b[2K     \u001b[90m━━━━━━━━━━━━━━━━━━━━━━━━━━━━━━━━━━━━━━\u001b[0m \u001b[32m772.0/772.0 kB\u001b[0m \u001b[31m11.1 MB/s\u001b[0m eta \u001b[36m0:00:00\u001b[0m\n",
            "\u001b[?25h  Preparing metadata (setup.py) ... \u001b[?25l\u001b[?25hdone\n",
            "Requirement already satisfied: joblib>=1.0.0 in /usr/local/lib/python3.10/dist-packages (from scikit-surprise->surprise) (1.3.1)\n",
            "Requirement already satisfied: numpy>=1.17.3 in /usr/local/lib/python3.10/dist-packages (from scikit-surprise->surprise) (1.22.4)\n",
            "Requirement already satisfied: scipy>=1.3.2 in /usr/local/lib/python3.10/dist-packages (from scikit-surprise->surprise) (1.10.1)\n",
            "Building wheels for collected packages: scikit-surprise\n",
            "  Building wheel for scikit-surprise (setup.py) ... \u001b[?25l\u001b[?25hdone\n",
            "  Created wheel for scikit-surprise: filename=scikit_surprise-1.1.3-cp310-cp310-linux_x86_64.whl size=2811669 sha256=86e7e441f4e10b755f6f7c0af75b99b4f51f50c1d6fb70f6933665e93335f1d4\n",
            "  Stored in directory: /root/.cache/pip/wheels/a5/ca/a8/4e28def53797fdc4363ca4af740db15a9c2f1595ebc51fb445\n",
            "Successfully built scikit-surprise\n",
            "Installing collected packages: scikit-surprise, surprise\n",
            "Successfully installed scikit-surprise-1.1.3 surprise-0.1\n"
          ]
        }
      ]
    },
    {
      "cell_type": "code",
      "source": [
        "books = pd.read_csv('/content/books.csv',  encoding='latin-1')"
      ],
      "metadata": {
        "id": "OqZ77n1hAbDw"
      },
      "execution_count": 3,
      "outputs": []
    },
    {
      "cell_type": "code",
      "source": [
        "users = pd.read_csv('/content/users.csv',  encoding='latin-1')"
      ],
      "metadata": {
        "id": "a_0WOYn6AzHd"
      },
      "execution_count": 4,
      "outputs": []
    },
    {
      "cell_type": "code",
      "source": [
        "ratings = pd.read_csv('/content/ratings.csv', encoding='utf-8-sig')\n"
      ],
      "metadata": {
        "id": "n_T_Uz5TCCdn"
      },
      "execution_count": 5,
      "outputs": []
    },
    {
      "cell_type": "code",
      "source": [
        "from surprise import Dataset, Reader, KNNBasic\n",
        "\n",
        "# Merge the book and users datasets on relevant columns\n",
        "merged_df = pd.merge(books, users, on=['Author-Name', 'Genres'])\n",
        "\n",
        "# Create a Surprise Dataset from the merged dataset\n",
        "reader = Reader(rating_scale=(1, 5))\n",
        "data = Dataset.load_from_df(merged_df[['User-ID', 'Book-Title', 'Ratings_y']], reader)\n",
        "\n",
        "# Build a user-based collaborative filtering model\n",
        "algo = KNNBasic(sim_options={'user_based': True})\n",
        "trainset = data.build_full_trainset()\n",
        "algo.fit(trainset)\n",
        "\n",
        "# Get recommendations for a specific user\n",
        "user_id = \"amber\"\n",
        "\n",
        "# Retrieve the list of all book titles\n",
        "book_titles = merged_df['Book-Title'].unique()\n",
        "\n",
        "# Generate top recommendations for the user\n",
        "top_recommended_books = []\n",
        "for book_title in book_titles:\n",
        "    predicted_rating = algo.predict(user_id, book_title).est\n",
        "    top_recommended_books.append((book_title, predicted_rating))\n",
        "\n",
        "# Sort the recommendations by predicted rating in descending order\n",
        "top_recommended_books = sorted(top_recommended_books, key=lambda x: x[1], reverse=True)\n",
        "\n",
        "# Print the top recommended books\n",
        "print(f\"Top recommended books for User ID {user_id}:\")\n",
        "for book_title, predicted_rating in top_recommended_books[:5]:\n",
        "    print(f\"Book: {book_title}, Predicted Rating: {predicted_rating}\")\n"
      ],
      "metadata": {
        "colab": {
          "base_uri": "https://localhost:8080/"
        },
        "id": "8FSYYN-OxX-3",
        "outputId": "3cffe026-4b70-4de4-c538-0ec4ff4717bf"
      },
      "execution_count": 6,
      "outputs": [
        {
          "output_type": "stream",
          "name": "stdout",
          "text": [
            "Computing the msd similarity matrix...\n",
            "Done computing similarity matrix.\n",
            "Top recommended books for User ID amber:\n",
            "Book: Make Your Own Neural Network, Predicted Rating: 2.6666666666666665\n",
            "Book: Machine Learning: The New AI, Predicted Rating: 2.6666666666666665\n"
          ]
        }
      ]
    }
  ]
}